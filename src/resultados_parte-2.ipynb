{
 "cells": [
  {
   "cell_type": "markdown",
   "id": "abbdd6ab",
   "metadata": {},
   "source": [
    "# Proyecto 1 - Regresion Lineal"
   ]
  },
  {
   "cell_type": "code",
   "execution_count": null,
   "id": "812cbff7",
   "metadata": {},
   "outputs": [],
   "source": [
    "# Importar las bibliotecas necesarias\n",
    "\n",
    "import numpy as np\n",
    "import matplotlib.pyplot as plt\n",
    "import pandas as pd\n",
    "import linear_regression as lr\t# Implementacion propia de regresion lineal"
   ]
  },
  {
   "cell_type": "markdown",
   "id": "7e70b7c9",
   "metadata": {},
   "source": [
    "## Peso corporal en función del peso de cerebro (1 rasgo)"
   ]
  },
  {
   "cell_type": "code",
   "execution_count": null,
   "id": "481a2b8d",
   "metadata": {},
   "outputs": [],
   "source": [
    "# Cargar los datos\n",
    "\n",
    "dataset = pd.read_csv(\n",
    "\t'../data/x01.txt', \n",
    "\tsep='\\s+', \n",
    "\theader=None, \n",
    "\tnames=['Index', 'BrainWeight', 'BodyWeight']\n",
    ")"
   ]
  },
  {
   "cell_type": "code",
   "execution_count": null,
   "id": "0806994c",
   "metadata": {},
   "outputs": [],
   "source": [
    "# Seleccionar variables\n",
    "\n",
    "X_raw = dataset['BrainWeight'].values.reshape(-1, 1)  # shape (62, 1)\n",
    "y = dataset['BodyWeight'].values  # shape (62,)\n",
    "\n",
    "plt.scatter(X_raw, y, color='blue', label='Dataset')\n",
    "plt.xlabel('Brain Weight')\n",
    "plt.ylabel('Body Weight')\n",
    "plt.title('Body Weight vs Brain Weight')\n",
    "plt.legend()\n",
    "plt.show()"
   ]
  },
  {
   "cell_type": "markdown",
   "id": "976df1bd",
   "metadata": {},
   "source": [
    "### Datos sin normalizar"
   ]
  },
  {
   "cell_type": "code",
   "execution_count": null,
   "id": "fbe7fe38",
   "metadata": {},
   "outputs": [],
   "source": [
    "# a) Muestre la curva de convergencia (J() vs. Iteraciones) para alpha = 0,0001\n",
    "\n",
    "# Inicializar theta\n",
    "theta = np.zeros(X_raw.shape[1])\n",
    "\n",
    "# Parámetros\n",
    "alpha = 0.0001\n",
    "num_iters = 50000\t# modificacion del valor para controlar las iteraciones\n",
    "\n",
    "# Ejecutar descenso del gradiente\n",
    "theta_final, bias_final, cost_history = lr.gradient_descent(X_raw, y, theta, alpha, num_iters)\n",
    "\n",
    "predictions = X_raw.dot(theta_final) + bias_final\n",
    "\n",
    "if cost_history is not None: \n",
    "\tplt.plot(cost_history, color='green', label='Costo (MSE)')\n",
    "plt.xlabel(\"Iteraciones\")\n",
    "plt.ylabel(\"Costo (MSE)\")\n",
    "plt.title(f\"Convergencia J()\")\n",
    "plt.grid(True)\n",
    "plt.show()"
   ]
  },
  {
   "cell_type": "code",
   "execution_count": null,
   "id": "858d948a",
   "metadata": {},
   "outputs": [],
   "source": [
    "# b) Realice un scatteplot de los datos junto con la curva que minimiza la función de costo.\n",
    "predictions = X_raw.dot(theta_final) + bias_final\n",
    "\n",
    "if X_raw.shape[1] > 0:\n",
    "\tplt.scatter(X_raw[:, 0], y, marker='o', color='red', label=f'Actual')\n",
    "\t\n",
    "\tsort_indices = np.argsort(X_raw[:, 0])\n",
    "\tplt.plot(X_raw[sort_indices, 0], predictions[sort_indices], color='blue', label=f'Predicted')\n",
    "\t\n",
    "\tplt.xlabel(f\"Brain Weight\")\n",
    "\tplt.ylabel(\"Body Weight\")\n",
    "\tplt.title(f\"Regresión: Brain Weight vs Body Weight\")\n",
    "\tplt.legend()\n",
    "else:\n",
    "\tprint(\"No se pudo graficar la regresión lineal porque X_raw no tiene features.\")"
   ]
  },
  {
   "cell_type": "markdown",
   "id": "de9abddd",
   "metadata": {},
   "source": [
    "### Datos normalizados"
   ]
  },
  {
   "cell_type": "code",
   "execution_count": null,
   "id": "57088402",
   "metadata": {},
   "outputs": [],
   "source": [
    "# Normalización \n",
    "X_norm = (X_raw - np.mean(X_raw)) / np.std(X_raw)"
   ]
  },
  {
   "cell_type": "code",
   "execution_count": null,
   "id": "610a08f3",
   "metadata": {},
   "outputs": [],
   "source": [
    "# a) Muestre la curva de convergencia (J() vs. Iteraciones) para alpha = 0,0001\n",
    "\n",
    "# Inicializar theta\n",
    "theta = np.zeros(X_norm.shape[1])\n",
    "\n",
    "# Parámetros\n",
    "alpha = 0.0001\n",
    "num_iters = 50000\t# modificacion del valor para controlar las iteraciones\n",
    "\n",
    "# Ejecutar descenso del gradiente\n",
    "theta_final, bias_final, cost_history = lr.gradient_descent(X_norm, y, theta, alpha, num_iters)\n",
    "\n",
    "if cost_history is not None: \n",
    "\tplt.plot(cost_history, color='green', label='Costo (MSE)')\n",
    "plt.xlabel(\"Iteraciones\")\n",
    "plt.ylabel(\"Costo (MSE)\")\n",
    "plt.title(f\"Convergencia J()\")\n",
    "plt.grid(True)\n",
    "plt.show()"
   ]
  },
  {
   "cell_type": "code",
   "execution_count": null,
   "id": "fb69aa01",
   "metadata": {},
   "outputs": [],
   "source": [
    "# b) Realice un scatteplot de los datos junto con la curva que minimiza la función de costo.\n",
    "predictions = X_norm.dot(theta_final) + bias_final\n",
    "\n",
    "if X_norm.shape[1] > 0:\n",
    "\tplt.scatter(X_norm[:, 0], y, marker='o', color='red', label=f'Actual')\n",
    "\t\n",
    "\tsort_indices = np.argsort(X_norm[:, 0])\n",
    "\tplt.plot(X_norm[sort_indices, 0], predictions[sort_indices], color='blue', label=f'Predicted')\n",
    "\t\n",
    "\tplt.xlabel(f\"Brain Weight\")\n",
    "\tplt.ylabel(\"Body Weight\")\n",
    "\tplt.title(f\"Regresión: Brain Weight vs Body Weight\")\n",
    "\tplt.legend()\n",
    "else:\n",
    "\tprint(\"No se pudo graficar la regresión lineal porque X_raw no tiene features.\")"
   ]
  },
  {
   "cell_type": "markdown",
   "id": "bac14baf",
   "metadata": {},
   "source": [
    "## Tasa de homicidios por millón de habitantes (3 rasgos)"
   ]
  },
  {
   "cell_type": "code",
   "execution_count": null,
   "id": "723e11ad",
   "metadata": {},
   "outputs": [],
   "source": [
    "# Cargar los datos\n",
    "\n",
    "dataset = pd.read_csv(\n",
    "\t'../data/x08.txt', \n",
    "\tsep='\\s+', \n",
    "\theader=None, \n",
    "\tnames=['Index', 'Inhabitants', 'PctLowIncome', 'PctUnemployed', 'Murders']\n",
    ")"
   ]
  },
  {
   "cell_type": "code",
   "execution_count": null,
   "id": "6deeb158",
   "metadata": {},
   "outputs": [],
   "source": [
    "# Seleccionar variables\n",
    "\n",
    "X_raw = dataset[['Inhabitants', 'PctLowIncome', 'PctUnemployed']].values # shape (20, 3)\n",
    "y = dataset['Murders'].values  # shape (62,)\n",
    "\n",
    "features = ['Inhabitants', 'PctLowIncome', 'PctUnemployed']\n",
    "\n",
    "plt.figure(figsize=(15, 4))\n",
    "\n",
    "for i, feature in enumerate(features):\n",
    "    plt.subplot(1, 3, i+1)\n",
    "    plt.scatter(dataset[feature], dataset['Murders'], color='blue')\n",
    "    plt.xlabel(feature)\n",
    "    plt.ylabel('Murders')\n",
    "    plt.title(f'{feature} vs Murders')\n",
    "\n",
    "plt.tight_layout()\n",
    "plt.show()"
   ]
  },
  {
   "cell_type": "markdown",
   "id": "52cb4622",
   "metadata": {},
   "source": [
    "### Datos sin normalizar"
   ]
  },
  {
   "cell_type": "code",
   "execution_count": null,
   "id": "e99e4798",
   "metadata": {},
   "outputs": [],
   "source": [
    "# a) Muestre las curvas de convergencia (J() vs. Iteraciones) para alpha = 0.0001.\n",
    "\n",
    "# Inicializar theta\n",
    "theta = np.zeros(X_raw.shape[1])\n",
    "\n",
    "# Parámetros\n",
    "alpha = 0.0001\n",
    "num_iters = 50000\t# modificacion del valor para controlar las iteraciones\n",
    "\n",
    "# Ejecutar descenso del gradiente\n",
    "theta_final, bias_final, cost_history = lr.gradient_descent(X_raw, y, theta, alpha, num_iters)\n",
    "\n",
    "if cost_history is not None: \n",
    "\tplt.plot(cost_history, color='green', label='Costo (MSE)')\n",
    "plt.xlabel(\"Iteraciones\")\n",
    "plt.ylabel(\"Costo (MSE)\")\n",
    "plt.title(f\"Convergencia J()\")\n",
    "plt.grid(True)\n",
    "plt.show()"
   ]
  },
  {
   "cell_type": "markdown",
   "id": "480071a9",
   "metadata": {},
   "source": [
    "### Datos normalizados"
   ]
  },
  {
   "cell_type": "code",
   "execution_count": null,
   "id": "dde5c2dc",
   "metadata": {},
   "outputs": [],
   "source": [
    "# Normalización \n",
    "X_norm = (X_raw - np.mean(X_raw)) / np.std(X_raw)"
   ]
  },
  {
   "cell_type": "code",
   "execution_count": null,
   "id": "18cb9add",
   "metadata": {},
   "outputs": [],
   "source": [
    "# a) Muestre la curva de convergencia (J() vs. Iteraciones) para alpha = 0,0001\n",
    "\n",
    "# Inicializar theta\n",
    "theta = np.zeros(X_norm.shape[1])\n",
    "\n",
    "# Parámetros\n",
    "alpha = 0.0001\n",
    "num_iters = 50000\t# modificacion del valor para controlar las iteraciones\n",
    "\n",
    "# Ejecutar descenso del gradiente\n",
    "theta_final, bias_final, cost_history = lr.gradient_descent(X_norm, y, theta, alpha, num_iters)\n",
    "\n",
    "if cost_history is not None: \n",
    "\tplt.plot(cost_history, color='green', label='Costo (MSE)')\n",
    "plt.xlabel(\"Iteraciones\")\n",
    "plt.ylabel(\"Costo (MSE)\")\n",
    "plt.title(f\"Convergencia J()\")\n",
    "plt.grid(True)\n",
    "plt.show()"
   ]
  },
  {
   "cell_type": "code",
   "execution_count": null,
   "id": "7265e99a",
   "metadata": {},
   "outputs": [],
   "source": [
    "# b) Muestre las curvas de convergencia (J() vs. Iteraciones) para alpha = 0.0001, 0.001,  0.01, 0.1, 1\n",
    "\n",
    "# Valores de alpha a probar\n",
    "alphas = [0.0001, 0.001, 0.01, 0.1, 1]\n",
    "num_iters = 5000  # modificacion del valor para controlar las iteraciones\n",
    "\n",
    "plt.figure(figsize=(18, 3))\n",
    "for i, alpha in enumerate(alphas):\n",
    "    theta_init = np.zeros(X_norm.shape[1])\n",
    "    _, _, cost_history = lr.gradient_descent(X_norm, y, theta_init, alpha, num_iters)\n",
    "    plt.subplot(1, len(alphas), i+1)\n",
    "    if cost_history is not None: \n",
    "        plt.plot(cost_history, color='green')\n",
    "    plt.title(f'alpha={alpha}')\n",
    "    plt.xlabel('Iteraciones')\n",
    "    plt.ylabel('J(θ)')\n",
    "    plt.grid(True)\n",
    "\n",
    "plt.tight_layout()\n",
    "plt.show()"
   ]
  }
 ],
 "metadata": {
  "kernelspec": {
   "display_name": "env",
   "language": "python",
   "name": "python3"
  },
  "language_info": {
   "codemirror_mode": {
    "name": "ipython",
    "version": 3
   },
   "file_extension": ".py",
   "mimetype": "text/x-python",
   "name": "python",
   "nbconvert_exporter": "python",
   "pygments_lexer": "ipython3",
   "version": "3.12.3"
  }
 },
 "nbformat": 4,
 "nbformat_minor": 5
}
